{
 "cells": [
  {
   "cell_type": "markdown",
   "metadata": {},
   "source": [
    "# Normalization of Black body function and it's integral\n",
    "$$F_0^\\lambda(\\lambda,T) = \\int_0^{+\\lambda} \\frac{b_\\lambda(\\lambda,T)}{sigma*T^4} d\\lambda $$\n",
    "",
    "$$ X = \\lambda*T $$\n",
    "$$dX = T d\\lambda$$\n",
    "\n",
    "$$F_0^\\lambda(\\lambda,T) = \\frac{1}{sigma} \\int_0^{X=\\lambda*T}\\frac{c_1}{X^5\\left( \\exp\\left(\\frac{c_2}{X}\\right)-1 \\right)} dX $$\n"
   ]
  },
  {
   "cell_type": "code",
   "execution_count": null,
   "metadata": {},
   "outputs": [],
   "source": [
    "# %matplotlib inline\n",
    "from matplotlib import pyplot as plt\n",
    "import numpy as np\n",
    "from scipy.constants import sigma"
   ]
  },
  {
   "cell_type": "code",
   "execution_count": 47,
   "metadata": {},
   "outputs": [],
   "source": [
    "from scipy.constants import pi, c, h, k, sigma\n",
    "def normalizedF(x):\n",
    "    from scipy.constants import k,h,c,pi\n",
    "    from numpy import exp\n",
    "    #s = sigma\n",
    "    # here we could also import all the constants from scipy.constants\n",
    "    #k = 1.38054e-23 # J/K\n",
    "    #h = 6.6256e-34 # Js\n",
    "    #s = 5.6703e-8 # W/(m^2 K^4)\n",
    "    #c = 2.997e8 # m/s\n",
    "    c1= 2*pi*c**2*h\n",
    "    c2= c*h/k\n",
    "    el = c1/(x**5*(exp(c2/(x))-1))\n",
    "    e2 = el/sigma\n",
    "    return(e2)"
   ]
  },
  {
   "cell_type": "code",
   "execution_count": 53,
   "metadata": {},
   "outputs": [],
   "source": [
    "T = 5800\n",
    "lam=np.arange(249,3936.2,75)*1e-9\n",
    "x = lam*T"
   ]
  },
  {
   "cell_type": "code",
   "execution_count": 54,
   "metadata": {},
   "outputs": [
    {
     "data": {
      "text/plain": [
       "array([ 58.25399705, 145.20642624, 206.45872718, 226.72186423,\n",
       "       218.4974476 , 196.44934991, 170.1140895 , 144.39624708,\n",
       "       121.36511605, 101.61437354,  85.05575196,  71.33198214,\n",
       "        60.01534056,  50.69507382,  43.01030186,  36.65760216,\n",
       "        31.38776548,  26.99865731,  23.32734439,  20.24280588,\n",
       "        17.63967915,  15.43309939,  13.55453279,  11.94845261,\n",
       "        10.56970447,   9.38142421,   8.35339314,   7.46073788,\n",
       "         6.68290034,   6.00281962,   5.40628023,   4.88139092,\n",
       "         4.41816655,   4.00819128,   3.64434624,   3.32058857,\n",
       "         3.03177131,   2.77349621,   2.54199286,   2.33401916,\n",
       "         2.146779  ,   1.97785399,   1.82514668,   1.68683302,\n",
       "         1.5613227 ,   1.44722565,   1.34332395,   1.24854796,\n",
       "         1.16195617,   1.08271801])"
      ]
     },
     "execution_count": 54,
     "metadata": {},
     "output_type": "execute_result"
    }
   ],
   "source": [
    "normalizedF(x)"
   ]
  },
  {
   "cell_type": "code",
   "execution_count": 60,
   "metadata": {},
   "outputs": [],
   "source": [
    "F_x = normalizedF(x)\n",
    "x_left= x[0:-1]\n",
    "x_right = x[1:]\n",
    "F0_left = F_x[0:-1]\n",
    "F0_right = F_x[1:]\n",
    "Dx = x_right - x_left\n",
    "My = 0.5*(F0_right+F0_left)\n",
    "Area = Dx*My\n",
    "np.sum(Area[0:1])\n",
    "percentage = Area*100\n",
    "Q = np.sum(percentage)"
   ]
  },
  {
   "cell_type": "code",
   "execution_count": 63,
   "metadata": {},
   "outputs": [
    {
     "name": "stdout",
     "output_type": "stream",
     "text": [
      "For the sample wavelengths, the percentage of Spectral Excitance for that range is 97.52%\n"
     ]
    }
   ],
   "source": [
    "print(f\"For the sample wavelengths, the percentage of Spectral Excitance for that range is {Q:.2f}%\")"
   ]
  },
  {
   "cell_type": "code",
   "execution_count": null,
   "metadata": {},
   "outputs": [],
   "source": []
  },
  {
   "cell_type": "code",
   "execution_count": null,
   "metadata": {},
   "outputs": [],
   "source": []
  },
  {
   "cell_type": "code",
   "execution_count": null,
   "metadata": {},
   "outputs": [],
   "source": []
  }
 ],
 "metadata": {
  "kernelspec": {
   "display_name": "Python 3",
   "language": "python",
   "name": "python3"
  },
  "language_info": {
   "codemirror_mode": {
    "name": "ipython",
    "version": 3
   },
   "file_extension": ".py",
   "mimetype": "text/x-python",
   "name": "python",
   "nbconvert_exporter": "python",
   "pygments_lexer": "ipython3",
   "version": "3.8.3"
  }
 },
 "nbformat": 4,
 "nbformat_minor": 4
}
